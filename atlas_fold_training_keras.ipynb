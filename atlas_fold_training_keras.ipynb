{
  "nbformat": 4,
  "nbformat_minor": 0,
  "metadata": {
    "colab": {
      "name": "atlas_fold_training_tegavrylenko.ipynb",
      "version": "0.3.2",
      "provenance": [],
      "collapsed_sections": []
    },
    "kernelspec": {
      "name": "python3",
      "display_name": "Python 3"
    },
    "accelerator": "GPU"
  },
  "cells": [
    {
      "metadata": {
        "id": "A78rDOx6ibJU",
        "colab_type": "code",
        "outputId": "7c093d86-de86-426b-ddcc-b6ac6bef8dc5",
        "colab": {
          "base_uri": "https://localhost:8080/",
          "height": 477
        }
      },
      "cell_type": "code",
      "source": [
        "!pip3 install kaggle\n",
        "from googleapiclient.discovery import build\n",
        "import io, os\n",
        "from googleapiclient.http import MediaIoBaseDownload\n",
        "from google.colab import auth\n",
        "\n",
        "auth.authenticate_user()\n",
        "\n",
        "drive_service = build('drive', 'v3')\n",
        "results = drive_service.files().list(\n",
        "        q=\"name = 'kaggle.json'\", fields=\"files(id)\").execute()\n",
        "kaggle_api_key = results.get('files', [])\n",
        "filename = \"/content/.kaggle/kaggle.json\"\n",
        "os.makedirs(os.path.dirname(filename), exist_ok=True)\n",
        "request = drive_service.files().get_media(fileId=kaggle_api_key[0]['id'])\n",
        "fh = io.FileIO(filename, 'wb')\n",
        "downloader = MediaIoBaseDownload(fh, request)\n",
        "done = False\n",
        "while done is False:\n",
        "    status, done = downloader.next_chunk()\n",
        "    print(\"Download %d%%.\" % int(status.progress() * 100))\n",
        "os.chmod(filename, 600)\n",
        "!mkdir ~/.kaggle\n",
        "!cp /content/.kaggle/kaggle.json ~/.kaggle/kaggle.json\n",
        "\n",
        "from google.colab import drive\n",
        "drive.mount('/content/gdrive')\n",
        "\n",
        "!kaggle competitions download -c human-protein-atlas-image-classification\n",
        "!unzip -qq train.zip -d train | awk 'BEGIN {ORS=\" \"} {if(NR%500==0) print \".\"}'\n",
        "!unzip -qq test.zip -d test | awk 'BEGIN {ORS=\" \"} {if(NR%500==0) print \".\"}'\n",
        "!rm test.zip\n",
        "!rm train.zip"
      ],
      "execution_count": 0,
      "outputs": [
        {
          "output_type": "stream",
          "text": [
            "Requirement already satisfied: kaggle in /usr/local/lib/python3.6/dist-packages (1.5.1.1)\n",
            "Requirement already satisfied: urllib3<1.23.0,>=1.15 in /usr/local/lib/python3.6/dist-packages (from kaggle) (1.22)\n",
            "Requirement already satisfied: six>=1.10 in /usr/local/lib/python3.6/dist-packages (from kaggle) (1.11.0)\n",
            "Requirement already satisfied: certifi in /usr/local/lib/python3.6/dist-packages (from kaggle) (2018.11.29)\n",
            "Requirement already satisfied: python-dateutil in /usr/local/lib/python3.6/dist-packages (from kaggle) (2.5.3)\n",
            "Requirement already satisfied: requests in /usr/local/lib/python3.6/dist-packages (from kaggle) (2.18.4)\n",
            "Requirement already satisfied: tqdm in /usr/local/lib/python3.6/dist-packages (from kaggle) (4.28.1)\n",
            "Requirement already satisfied: python-slugify in /usr/local/lib/python3.6/dist-packages (from kaggle) (1.2.6)\n",
            "Requirement already satisfied: idna<2.7,>=2.5 in /usr/local/lib/python3.6/dist-packages (from requests->kaggle) (2.6)\n",
            "Requirement already satisfied: chardet<3.1.0,>=3.0.2 in /usr/local/lib/python3.6/dist-packages (from requests->kaggle) (3.0.4)\n",
            "Requirement already satisfied: Unidecode>=0.04.16 in /usr/local/lib/python3.6/dist-packages (from python-slugify->kaggle) (1.0.23)\n",
            "Download 100%.\n",
            "Go to this URL in a browser: https://accounts.google.com/o/oauth2/auth?client_id=947318989803-6bn6qk8qdgf4n4g3pfee6491hc0brc4i.apps.googleusercontent.com&redirect_uri=urn%3Aietf%3Awg%3Aoauth%3A2.0%3Aoob&scope=email%20https%3A%2F%2Fwww.googleapis.com%2Fauth%2Fdocs.test%20https%3A%2F%2Fwww.googleapis.com%2Fauth%2Fdrive%20https%3A%2F%2Fwww.googleapis.com%2Fauth%2Fdrive.photos.readonly%20https%3A%2F%2Fwww.googleapis.com%2Fauth%2Fpeopleapi.readonly&response_type=code\n",
            "\n",
            "Enter your authorization code:\n",
            "··········\n",
            "Mounted at /content/gdrive\n",
            "Downloading sample_submission.csv to /content\n",
            "  0% 0.00/446k [00:00<?, ?B/s]\n",
            "100% 446k/446k [00:00<00:00, 30.7MB/s]\n",
            "Downloading train.csv to /content\n",
            "  0% 0.00/1.22M [00:00<?, ?B/s]\n",
            "100% 1.22M/1.22M [00:00<00:00, 40.9MB/s]\n",
            "Downloading test.zip to /content\n",
            " 58% 2.51G/4.37G [00:27<00:20, 96.1MB/s]"
          ],
          "name": "stdout"
        }
      ]
    },
    {
      "metadata": {
        "id": "T1_8c8lolNNl",
        "colab_type": "code",
        "outputId": "876d04fd-0902-4c1a-e20f-b1d4c69b4de5",
        "colab": {
          "base_uri": "https://localhost:8080/",
          "height": 34
        }
      },
      "cell_type": "code",
      "source": [
        "!ls"
      ],
      "execution_count": 0,
      "outputs": [
        {
          "output_type": "stream",
          "text": [
            "sample_data\n"
          ],
          "name": "stdout"
        }
      ]
    },
    {
      "metadata": {
        "id": "VqhjpkDbl_JX",
        "colab_type": "code",
        "outputId": "702fa78b-9a0a-43c0-eb44-aa1cde20d93d",
        "colab": {
          "base_uri": "https://localhost:8080/",
          "height": 34
        }
      },
      "cell_type": "code",
      "source": [
        "import cv2\n",
        "import numpy as np\n",
        "import pandas as pd\n",
        "import tensorflow as tf\n",
        "from tqdm import tqdm\n",
        "from keras.models import Sequential, Model,load_model\n",
        "from keras.layers import Dense, Dropout, Flatten, merge\n",
        "from keras.layers import Input, Activation, Dense, Flatten\n",
        "from keras.layers.convolutional import Conv2D, MaxPooling2D, AveragePooling2D\n",
        "from keras.layers.normalization import BatchNormalization\n",
        "from keras.applications import ResNet50,DenseNet121,Xception\n",
        "from keras import backend as K\n",
        "import os\n",
        "from sklearn.utils import shuffle\n",
        "import random\n",
        "from keras.callbacks import EarlyStopping, ModelCheckpoint, ReduceLROnPlateau,Callback\n",
        "from sklearn.metrics import f1_score\n",
        "from keras.optimizers import Adam, SGD\n",
        "import PIL\n",
        "from PIL import Image\n",
        "import _pickle as cPickle\n",
        "import matplotlib.pyplot as plt\n",
        "from IPython.display import clear_output\n",
        "%matplotlib inline"
      ],
      "execution_count": 2,
      "outputs": [
        {
          "output_type": "stream",
          "text": [
            "Using TensorFlow backend.\n"
          ],
          "name": "stderr"
        }
      ]
    },
    {
      "metadata": {
        "id": "oQKOW2_emFB9",
        "colab_type": "code",
        "colab": {}
      },
      "cell_type": "code",
      "source": [
        "def f1_score_K(y_true, y_pred):\n",
        "    y_pred = K.round(y_pred)\n",
        "    tp = K.sum(K.cast(y_true*y_pred, 'float'), axis=0)\n",
        "    tn = K.sum(K.cast((1-y_true)*(1-y_pred), 'float'), axis=0)\n",
        "    fp = K.sum(K.cast((1-y_true)*y_pred, 'float'), axis=0)\n",
        "    fn = K.sum(K.cast(y_true*(1-y_pred), 'float'), axis=0)\n",
        "\n",
        "    p = tp / (tp + fp + K.epsilon())\n",
        "    r = tp / (tp + fn + K.epsilon())\n",
        "\n",
        "    f1 = 2*p*r / (p+r+K.epsilon())\n",
        "    f1 = tf.where(tf.is_nan(f1), tf.zeros_like(f1), f1)\n",
        "    return K.mean(f1)\n",
        "  \n",
        "def f1_loss(y_true, y_pred):\n",
        "    \n",
        "    tp = K.sum(K.cast(y_true*y_pred, 'float'), axis=0)\n",
        "    tn = K.sum(K.cast((1-y_true)*(1-y_pred), 'float'), axis=0)\n",
        "    fp = K.sum(K.cast((1-y_true)*y_pred, 'float'), axis=0)\n",
        "    fn = K.sum(K.cast(y_true*(1-y_pred), 'float'), axis=0)\n",
        "\n",
        "    p = tp / (tp + fp + K.epsilon())\n",
        "    r = tp / (tp + fn + K.epsilon())\n",
        "\n",
        "    f1 = 2*p*r / (p+r+K.epsilon())\n",
        "    f1 = tf.where(tf.is_nan(f1), tf.zeros_like(f1), f1)\n",
        "    return 1 - K.mean(f1)\n",
        "  \n",
        "def f1_score_macro(y_true, y_pred):\n",
        "    y_true, y_pred, = np.array(y_true), np.array(y_pred)\n",
        "    score = f1_score(y_true, y_pred, average='macro')\n",
        "    return score\n",
        "\n",
        "def rotate(img):\n",
        "    rows = img.shape[0]\n",
        "    cols = img.shape[1]\n",
        "    angle = np.random.choice((10, 20, 30))#, 40, 50, 60, 70, 80, 90))\n",
        "    rotation_M = cv2.getRotationMatrix2D((cols / 2, rows / 2), angle, 1)\n",
        "    img = cv2.warpAffine(img, rotation_M, (cols, rows))\n",
        "    return img\n",
        "\n",
        "def rotate_bound(image, size):\n",
        "    #credits http://www.pyimagesearch.com/2017/01/02/rotate-images-correctly-with-opencv-and-python/\n",
        "    (h, w) = image.shape[:2]\n",
        "    (cX, cY) = (w // 2, h // 2)\n",
        "\n",
        "    angle = np.random.randint(10,180)\n",
        "\n",
        "    M = cv2.getRotationMatrix2D((cX, cY), -angle, 1.0)\n",
        "    cos = np.abs(M[0, 0])\n",
        "    sin = np.abs(M[0, 1])\n",
        "\n",
        "    # compute the new bounding dimensions of the image\n",
        "    nW = int((h * sin) + (w * cos))\n",
        "    nH = int((h * cos) + (w * sin))\n",
        "\n",
        "    # adjust the rotation matrix to take into account translation\n",
        "    M[0, 2] += (nW / 2) - cX\n",
        "    M[1, 2] += (nH / 2) - cY\n",
        "\n",
        "    output = cv2.resize(cv2.warpAffine(image, M, (nW, nH)), (size, size))\n",
        "    return output\n",
        "\n",
        "def perspective(img):\n",
        "    rows = img.shape[0]\n",
        "    cols = img.shape[1]\n",
        "\n",
        "    shrink_ratio1 = np.random.randint(low=85, high=110, dtype=int) / 100\n",
        "    shrink_ratio2 = np.random.randint(low=85, high=110, dtype=int) / 100\n",
        "\n",
        "    zero_point = rows - np.round(rows * shrink_ratio1, 0)\n",
        "    max_point_row = np.round(rows * shrink_ratio1, 0)\n",
        "    max_point_col = np.round(cols * shrink_ratio2, 0)\n",
        "\n",
        "    src = np.float32([[zero_point, zero_point], [max_point_row-1, zero_point], [zero_point, max_point_col+1], [max_point_row-1, max_point_col+1]])\n",
        "    dst = np.float32([[0, 0], [rows, 0], [0, cols], [rows, cols]])\n",
        "\n",
        "    perspective_M = cv2.getPerspectiveTransform(src, dst)\n",
        "\n",
        "    img = cv2.warpPerspective(img, perspective_M, (cols,rows))#, borderValue=mean_pix)\n",
        "    return img\n",
        "\n",
        "def shift(img):\n",
        "    rows = img.shape[0]\n",
        "    cols = img.shape[1]\n",
        "\n",
        "    shift_ratio1 = (random.random() * 2 - 1) * np.random.randint(low=3, high=15, dtype=int)\n",
        "    shift_ratio2 = (random.random() * 2 - 1) * np.random.randint(low=3, high=15, dtype=int)\n",
        "\n",
        "    shift_M = np.float32([[1,0,shift_ratio1], [0,1,shift_ratio2]])\n",
        "    img = cv2.warpAffine(img, shift_M, (cols, rows))#, borderValue=mean_pix)\n",
        "    return img\n",
        "  \n",
        "def batch_generator_train(zip_list, img_size, batch_size, is_train=True, shuffle=True):\n",
        "    number_of_batches = np.ceil(len(zip_list) / batch_size)\n",
        "    if shuffle == True:\n",
        "        random.shuffle(zip_list)\n",
        "    counter = 0\n",
        "    while True:\n",
        "        if shuffle == True:\n",
        "            random.shuffle(zip_list)\n",
        "\n",
        "        batch_files = zip_list[batch_size*counter:batch_size*(counter+1)]\n",
        "        image_list = []\n",
        "        mask_list = []\n",
        "\n",
        "        for file, mask in batch_files:\n",
        "\n",
        "            image=open_rgby(file,img_size)  \n",
        "\n",
        "            rnd_flip = np.random.randint(2, dtype=int)\n",
        "            rnd_rotate = np.random.randint(2, dtype=int)\n",
        "            rnd_zoom = np.random.randint(2, dtype=int)\n",
        "            rnd_shift = np.random.randint(2, dtype=int)\n",
        "\n",
        "            if (rnd_flip == 1) & (is_train == True):\n",
        "                rnd_flip = np.random.randint(3, dtype=int) - 1\n",
        "                image = cv2.flip(image, rnd_flip)\n",
        "\n",
        "            if (rnd_rotate == 1) & (is_train == True):\n",
        "                image = rotate_bound(image, img_size)\n",
        "\n",
        "            if (rnd_zoom == 1) & (is_train == True):\n",
        "                image = perspective(image)\n",
        "\n",
        "            if (rnd_shift == 1) & (is_train == True):\n",
        "                image = shift(image)\n",
        "\n",
        "            image_list.append(image)\n",
        "            mask_list.append(mask)\n",
        "\n",
        "        counter += 1\n",
        "        image_list = np.array(image_list)\n",
        "        mask_list = np.array(mask_list)\n",
        "\n",
        "        yield (image_list, mask_list)\n",
        "\n",
        "        if counter == number_of_batches:\n",
        "            if shuffle == True:\n",
        "                random.shuffle(zip_list)\n",
        "            counter = 0\n",
        "            \n",
        "def batch_generator_test(zip_list, img_size, batch_size, shuffle=True):\n",
        "    number_of_batches = np.ceil(len(zip_list)/batch_size)\n",
        "    print(len(zip_list), number_of_batches)\n",
        "    counter = 0\n",
        "    if shuffle:\n",
        "        random.shuffle(zip_list)\n",
        "    while True:\n",
        "        batch_files = zip_list[batch_size*counter:batch_size*(counter+1)]\n",
        "        image_list = []\n",
        "        mask_list = []\n",
        "\n",
        "        for file, mask in batch_files:\n",
        "            image=open_rgby(file,img_size)  \n",
        "            image_list.append(image)\n",
        "            mask_list.append(mask)\n",
        "\n",
        "        counter += 1\n",
        "        image_list = np.array(image_list)\n",
        "        mask_list = np.array(mask_list)\n",
        "\n",
        "        yield (image_list, mask_list)\n",
        "\n",
        "        if counter == number_of_batches:\n",
        "            random.shuffle(zip_list)\n",
        "            counter = 0\n",
        "            \n",
        "\n",
        "def predict_generator(files, img_size, batch_size):\n",
        "    number_of_batches = np.ceil(len(files) / batch_size)\n",
        "    print(len(files), number_of_batches)\n",
        "    counter = 0\n",
        "    int_counter = 0\n",
        "\n",
        "    while True:\n",
        "            beg = batch_size * counter\n",
        "            end = batch_size * (counter + 1)\n",
        "            batch_files = files[beg:end]\n",
        "            image_list = []\n",
        "\n",
        "            for file in batch_files:\n",
        "                int_counter += 1\n",
        "                image=open_rgby(file,img_size)  \n",
        "                rnd_flip = np.random.randint(2, dtype=int)\n",
        "                rnd_rotate = np.random.randint(2, dtype=int)\n",
        "                rnd_zoom = np.random.randint(2, dtype=int)\n",
        "                rnd_shift = np.random.randint(2, dtype=int)\n",
        "\n",
        "                if rnd_flip == 1:\n",
        "                    rnd_flip = np.random.randint(3, dtype=int) - 1\n",
        "                    image = cv2.flip(image, rnd_flip)\n",
        "\n",
        "                if rnd_rotate == 1:\n",
        "                    image = rotate_bound(image, img_size)\n",
        "\n",
        "                if rnd_zoom == 1:\n",
        "                    image = perspective(image)\n",
        "\n",
        "                if rnd_shift == 1:\n",
        "                    image = shift(image)\n",
        "\n",
        "                image_list.append(image)\n",
        "\n",
        "            counter += 1\n",
        "\n",
        "            image_list = np.array(image_list)\n",
        "\n",
        "            yield (image_list)\n",
        "            \n",
        "def open_rgby(file, img_size): #a function that reads RGBY image\n",
        "    colors = ['red','green','blue']#,'yellow']\n",
        "    flags = cv2.IMREAD_GRAYSCALE\n",
        "    img = [cv2.resize(cv2.imread((file+'_'+color+'.png'), flags),(img_size,img_size))\n",
        "           for color in colors]\n",
        "    return np.stack(img, axis=-1)            "
      ],
      "execution_count": 0,
      "outputs": []
    },
    {
      "metadata": {
        "id": "Mud4R-GMlUnH",
        "colab_type": "code",
        "colab": {}
      },
      "cell_type": "code",
      "source": [
        "TRAIN = 'train/'\n",
        "TEST = 'test/'\n",
        "LABELS = 'train.csv'\n",
        "SAMPLE = 'sample_submission.csv'\n",
        "DRIVE='/content/gdrive/My Drive/atlas'\n",
        "DATA='data/'\n",
        "MODELS='models/'\n",
        "OUTPUT_CSV='output_csv/'\n",
        "FOLD=4\n",
        "RANDOM_STATE=15\n",
        "IMG_SIZE=512\n",
        "BATCH=8\n",
        "NUM_CLASSES=23"
      ],
      "execution_count": 0,
      "outputs": []
    },
    {
      "metadata": {
        "id": "iyLt7bO7pxtk",
        "colab_type": "code",
        "outputId": "bfeb538b-9574-4a69-f6af-0cf786d617be",
        "colab": {
          "base_uri": "https://localhost:8080/",
          "height": 35
        }
      },
      "cell_type": "code",
      "source": [
        "os.listdir(DRIVE)"
      ],
      "execution_count": 0,
      "outputs": [
        {
          "output_type": "execute_result",
          "data": {
            "text/plain": [
              "['data', 'models', 'output_csv']"
            ]
          },
          "metadata": {
            "tags": []
          },
          "execution_count": 5
        }
      ]
    },
    {
      "metadata": {
        "id": "jdRrmPXdnuwL",
        "colab_type": "code",
        "colab": {}
      },
      "cell_type": "code",
      "source": [
        "\n",
        "file_name=os.path.join(DRIVE,DATA, f'Main_{FOLD}_{RANDOM_STATE}.pkl')\n",
        "#file_name=os.path.join(DRIVE,DATA, f'test_{4}_{RANDOM_STATE}.pkl')\n",
        "with open(file_name, 'rb') as f:\n",
        "    train_list= cPickle.load(f)\n",
        "train=train_list[0]\n",
        "val=train_list[1]"
      ],
      "execution_count": 0,
      "outputs": []
    },
    {
      "metadata": {
        "id": "DqjBR4-brc-y",
        "colab_type": "code",
        "outputId": "0703d8a0-6995-42a4-d5c0-c2d854ec0451",
        "colab": {
          "base_uri": "https://localhost:8080/",
          "height": 34
        }
      },
      "cell_type": "code",
      "source": [
        "len(train)"
      ],
      "execution_count": 0,
      "outputs": [
        {
          "output_type": "execute_result",
          "data": {
            "text/plain": [
              "2"
            ]
          },
          "metadata": {
            "tags": []
          },
          "execution_count": 8
        }
      ]
    },
    {
      "metadata": {
        "id": "Rb_-b_OVmhlp",
        "colab_type": "code",
        "outputId": "9b121610-59fc-443d-ea70-6fa4ed4d58e0",
        "colab": {
          "base_uri": "https://localhost:8080/",
          "height": 85
        }
      },
      "cell_type": "code",
      "source": [
        "def create_model():\n",
        "  base_model = DenseNet121(include_top=False, input_shape=(IMG_SIZE,IMG_SIZE,3), pooling='avg', weights='imagenet')\n",
        "  x = base_model.output\n",
        "  x = Dense(2048,activation='relu')(x)\n",
        "  x = Dropout(0.25)(x)\n",
        "  output = Dense(NUM_CLASSES, activation='sigmoid')(x)\n",
        "  return Model(input=base_model.inputs,outputs = output)\n",
        "model=create_model()"
      ],
      "execution_count": 6,
      "outputs": [
        {
          "output_type": "stream",
          "text": [
            "Downloading data from https://github.com/keras-team/keras-applications/releases/download/densenet/densenet121_weights_tf_dim_ordering_tf_kernels_notop.h5\n",
            "29089792/29084464 [==============================] - 2s 0us/step\n"
          ],
          "name": "stdout"
        },
        {
          "output_type": "stream",
          "text": [
            "/usr/local/lib/python3.6/dist-packages/ipykernel_launcher.py:7: UserWarning: Update your `Model` call to the Keras 2 API: `Model(outputs=Tensor(\"de..., inputs=[<tf.Tenso...)`\n",
            "  import sys\n"
          ],
          "name": "stderr"
        }
      ]
    },
    {
      "metadata": {
        "id": "ciBK-bqMupwm",
        "colab_type": "code",
        "outputId": "2678223c-ef17-43cb-a100-fa619a09ca5e",
        "colab": {
          "base_uri": "https://localhost:8080/",
          "height": 34
        }
      },
      "cell_type": "code",
      "source": [
        "model_name=os.path.join(DRIVE,MODELS,f'dense_main_{FOLD}_{RANDOM_STATE}')\n",
        "model_name\n",
        "                        "
      ],
      "execution_count": 7,
      "outputs": [
        {
          "output_type": "execute_result",
          "data": {
            "text/plain": [
              "'/content/gdrive/My Drive/atlas/models/dense_main_4_15'"
            ]
          },
          "metadata": {
            "tags": []
          },
          "execution_count": 7
        }
      ]
    },
    {
      "metadata": {
        "id": "ZIk97vwlYe-Q",
        "colab_type": "code",
        "outputId": "9b440935-edf3-4d10-ab73-585dbdde6c2a",
        "colab": {
          "base_uri": "https://localhost:8080/",
          "height": 34
        }
      },
      "cell_type": "code",
      "source": [
        "name=model_name+'_24-0.0860.hdf5'\n",
        "name"
      ],
      "execution_count": 8,
      "outputs": [
        {
          "output_type": "execute_result",
          "data": {
            "text/plain": [
              "'/content/gdrive/My Drive/atlas/models/dense_main_2_15_24-0.0860.hdf5'"
            ]
          },
          "metadata": {
            "tags": []
          },
          "execution_count": 8
        }
      ]
    },
    {
      "metadata": {
        "id": "sRllehd-YhSn",
        "colab_type": "code",
        "colab": {}
      },
      "cell_type": "code",
      "source": [
        "model=load_model(name,custom_objects={'f1_score_K':f1_score_K})"
      ],
      "execution_count": 0,
      "outputs": []
    },
    {
      "metadata": {
        "id": "eC3WUEau731w",
        "colab_type": "code",
        "colab": {}
      },
      "cell_type": "code",
      "source": [
        "class PlotLosses(Callback):\n",
        "    def on_train_begin(self, logs={}):\n",
        "        self.i = 0\n",
        "        self.x = []\n",
        "        self.losses = []\n",
        "        self.val_losses = []\n",
        "        \n",
        "        self.fig = plt.figure()\n",
        "        \n",
        "        self.logs = []\n",
        "\n",
        "    def on_epoch_end(self, epoch, logs={}):\n",
        "        \n",
        "        self.logs.append(logs)\n",
        "        self.x.append(self.i)\n",
        "        self.losses.append(logs.get('loss'))\n",
        "        self.val_losses.append(logs.get('val_loss'))\n",
        "        self.i += 1\n",
        "        \n",
        "        clear_output(wait=True)\n",
        "        lr = self.model.optimizer.lr\n",
        "        decay = self.model.optimizer.decay\n",
        "        iterations = self.model.optimizer.iterations\n",
        "        lr_with_decay = lr / (1. + decay * K.cast(iterations, K.dtype(decay)))\n",
        "\n",
        "        plt.plot(self.x, self.losses, label=\"loss\")\n",
        "        plt.plot(self.x, self.val_losses, label=\"val_loss\")\n",
        "        plt.legend()\n",
        "        plt.show()\n",
        "        print('Epoch ', self.i, K.eval(lr_with_decay))\n",
        "        \n",
        "plot_losses = PlotLosses()"
      ],
      "execution_count": 0,
      "outputs": []
    },
    {
      "metadata": {
        "id": "Fjrcx-n4nLVp",
        "colab_type": "code",
        "colab": {}
      },
      "cell_type": "code",
      "source": [
        "callbacks = [ModelCheckpoint(model_name+'_{epoch:02d}-{val_loss:.4f}.hdf5', monitor='val_loss', save_best_only=True, verbose=2,mode='min'),\n",
        "             ReduceLROnPlateau(monitor='val_loss', factor=0.1, patience=2, verbose=1, mode='auto', min_delta=0.0001, cooldown=0, min_lr=0.0000000001),\n",
        "             EarlyStopping(monitor='val_loss', patience=6, mode='min', verbose=0),\n",
        "             plot_losses]"
      ],
      "execution_count": 0,
      "outputs": []
    },
    {
      "metadata": {
        "id": "co6e8Q2DqYEF",
        "colab_type": "code",
        "outputId": "303c52f6-4866-4eef-b64a-2634fb2e6185",
        "colab": {
          "base_uri": "https://localhost:8080/",
          "height": 316
        }
      },
      "cell_type": "code",
      "source": [
        "optimizer = Adam(0.00001, decay=0.00000001)\n",
        "model.compile(loss='binary_crossentropy', optimizer=optimizer, metrics=['accuracy', f1_score_K])\n",
        "\n",
        "\n",
        "#model=load_model(filepath,custom_objects={'f1_score_K':f1_score_K})\n",
        "\n",
        "model.fit_generator(generator=batch_generator_train(list(zip(train[0],train[1])), IMG_SIZE, BATCH),\n",
        "                    steps_per_epoch=np.ceil(len(train[0])/BATCH),\n",
        "                    epochs=30,\n",
        "                    verbose=1,\n",
        "                    validation_data=batch_generator_train(list(zip(val[0],val[1])), IMG_SIZE, 16),\n",
        "                    validation_steps=np.ceil(len(val[0])/16),\n",
        "                    callbacks=callbacks,\n",
        "                    initial_epoch=0)\n",
        "model.save(model_name)"
      ],
      "execution_count": 0,
      "outputs": [
        {
          "output_type": "display_data",
          "data": {
            "image/png": "[encoded data removed]",
            "text/plain": [
              "<matplotlib.figure.Figure at 0x7f91da2107b8>"
            ]
          },
          "metadata": {
            "tags": []
          }
        },
        {
          "output_type": "stream",
          "text": [
            "Epoch  11 9.996369e-06\n",
            "Epoch 12/30\n",
            "1448/3302 [============>.................] - ETA: 33:05 - loss: 0.0856 - acc: 0.9683 - f1_score_K: 0.2320"
          ],
          "name": "stdout"
        }
      ]
    },
    {
      "metadata": {
        "id": "NuDa9rzo26d6",
        "colab_type": "code",
        "outputId": "da577a2c-a282-4cbb-b09b-4d57962bd16c",
        "colab": {
          "base_uri": "https://localhost:8080/",
          "height": 34
        }
      },
      "cell_type": "code",
      "source": [
        "os.listdir( '/content/gdrive/My Drive/atlas/models')"
      ],
      "execution_count": 0,
      "outputs": [
        {
          "output_type": "execute_result",
          "data": {
            "text/plain": [
              "[]"
            ]
          },
          "metadata": {
            "tags": []
          },
          "execution_count": 82
        }
      ]
    }
  ]
}