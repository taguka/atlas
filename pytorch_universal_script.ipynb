{
  "nbformat": 4,
  "nbformat_minor": 0,
  "metadata": {
    "colab": {
      "name": "pytorch_universal_script.ipynb",
      "version": "0.3.2",
      "provenance": [],
      "collapsed_sections": [],
      "include_colab_link": true
    },
    "kernelspec": {
      "name": "python3",
      "display_name": "Python 3"
    },
    "accelerator": "GPU"
  },
  "cells": [
    {
      "cell_type": "markdown",
      "metadata": {
        "id": "view-in-github",
        "colab_type": "text"
      },
      "source": [
        "<a href=\"https://colab.research.google.com/github/taguka/atlas/blob/master/pytorch_universal_script.ipynb\" target=\"_parent\"><img src=\"https://colab.research.google.com/assets/colab-badge.svg\" alt=\"Open In Colab\"/></a>"
      ]
    },
    {
      "metadata": {
        "id": "hkgveJ1WH2OZ",
        "colab_type": "code",
        "colab": {}
      },
      "cell_type": "code",
      "source": [
        "!apt-get -qq install -y libsm6 libxext6 && pip install -q -U opencv-python"
      ],
      "execution_count": 0,
      "outputs": []
    },
    {
      "metadata": {
        "id": "7mBS7QjmDEdM",
        "colab_type": "code",
        "colab": {}
      },
      "cell_type": "code",
      "source": [
        "!pip3 install https://download.pytorch.org/whl/cu80/torch-1.0.0-cp36-cp36m-linux_x86_64.whl"
      ],
      "execution_count": 0,
      "outputs": []
    },
    {
      "metadata": {
        "id": "FAZmLnOqDcac",
        "colab_type": "code",
        "colab": {}
      },
      "cell_type": "code",
      "source": [
        "!pip install torchvision"
      ],
      "execution_count": 0,
      "outputs": []
    },
    {
      "metadata": {
        "id": "sk1NThwLUsYo",
        "colab_type": "code",
        "colab": {}
      },
      "cell_type": "code",
      "source": [
        "!pip install pretrainedmodels"
      ],
      "execution_count": 0,
      "outputs": []
    },
    {
      "metadata": {
        "id": "VMYrZtvzyfxd",
        "colab_type": "code",
        "colab": {}
      },
      "cell_type": "code",
      "source": [
        "# Generate auth tokens for Colab\n",
        "from google.colab import auth\n",
        "auth.authenticate_user()\n",
        "from google.colab import drive\n",
        "drive.mount('/content/gdrive/', force_remount=True)"
      ],
      "execution_count": 0,
      "outputs": []
    },
    {
      "metadata": {
        "id": "MnWAv97zykFF",
        "colab_type": "code",
        "colab": {}
      },
      "cell_type": "code",
      "source": [
        "!pip3 install kaggle\n",
        "from googleapiclient.discovery import build\n",
        "import io, os\n",
        "from googleapiclient.http import MediaIoBaseDownload\n",
        "\n",
        "drive_service = build('drive', 'v3')\n",
        "results = drive_service.files().list(\n",
        "        q=\"name = 'kaggle.json'\", fields=\"files(id)\").execute()\n",
        "kaggle_api_key = results.get('files', [])\n",
        "filename = \"/content/.kaggle/kaggle.json\"\n",
        "os.makedirs(os.path.dirname(filename), exist_ok=True)\n",
        "request = drive_service.files().get_media(fileId=kaggle_api_key[0]['id'])\n",
        "fh = io.FileIO(filename, 'wb')\n",
        "downloader = MediaIoBaseDownload(fh, request)\n",
        "done = False\n",
        "while done is False:\n",
        "    status, done = downloader.next_chunk()\n",
        "    print(\"Download %d%%.\" % int(status.progress() * 100))\n",
        "os.chmod(filename, 600)\n",
        "!mkdir ~/.kaggle\n",
        "!cp /content/.kaggle/kaggle.json ~/.kaggle/kaggle.json\n",
        "\n",
        "\n",
        "\n",
        "!kaggle competitions download -c human-protein-atlas-image-classification\n",
        "!unzip -qq train.zip -d train | awk 'BEGIN {ORS=\" \"} {if(NR%500==0) print \".\"}'\n",
        "!unzip -qq test.zip -d test | awk 'BEGIN {ORS=\" \"} {if(NR%500==0) print \".\"}'\n",
        "!rm test.zip\n",
        "!rm train.zip"
      ],
      "execution_count": 0,
      "outputs": []
    },
    {
      "metadata": {
        "id": "yuO0kXGDFxES",
        "colab_type": "code",
        "outputId": "e41637ed-d8df-4332-f0ed-4bb401d68907",
        "colab": {
          "base_uri": "https://localhost:8080/",
          "height": 34
        }
      },
      "cell_type": "code",
      "source": [
        "!ls 'gdrive/My Drive'"
      ],
      "execution_count": 1,
      "outputs": [
        {
          "output_type": "stream",
          "text": [
            "'Colab Notebooks'   opt   output   train\n"
          ],
          "name": "stdout"
        }
      ]
    },
    {
      "metadata": {
        "id": "pwwpzbV269kY",
        "colab_type": "code",
        "colab": {
          "base_uri": "https://localhost:8080/",
          "height": 68
        },
        "outputId": "06d450dc-e303-4902-db16-aeba0aabcf34"
      },
      "cell_type": "code",
      "source": [
        "!ls"
      ],
      "execution_count": 2,
      "outputs": [
        {
          "output_type": "stream",
          "text": [
            "adc.json    labels.csv\t     __pycache__\t    test       train.py\n",
            "dataset.py  mytransforms.py  sample_data\t    train      utils.py\n",
            "gdrive\t    opt\t\t     sample_submission.csv  train.csv\n"
          ],
          "name": "stdout"
        }
      ]
    },
    {
      "metadata": {
        "id": "o_WV5IueXPwX",
        "colab_type": "code",
        "colab": {}
      },
      "cell_type": "code",
      "source": [
        "# copy opt to drive\n",
        "#labels.csv\n",
        "#dataset.py\n",
        "#models.py\n",
        "#mytransforms.py\n",
        "#train.py\n",
        "#utils.py"
      ],
      "execution_count": 0,
      "outputs": []
    },
    {
      "metadata": {
        "id": "MSHkW4aUFSvB",
        "colab_type": "code",
        "colab": {}
      },
      "cell_type": "code",
      "source": [
        "cp -R 'gdrive/My Drive/opt' '/content'"
      ],
      "execution_count": 0,
      "outputs": []
    },
    {
      "metadata": {
        "id": "_QXoMfrgwIPL",
        "colab_type": "code",
        "colab": {}
      },
      "cell_type": "code",
      "source": [
        "!rm 'train.py'"
      ],
      "execution_count": 0,
      "outputs": []
    },
    {
      "metadata": {
        "id": "ZUr1bx0zuwqJ",
        "colab_type": "code",
        "colab": {}
      },
      "cell_type": "code",
      "source": [
        "from google.colab import files\n",
        "files.upload()"
      ],
      "execution_count": 0,
      "outputs": []
    },
    {
      "metadata": {
        "id": "O6nvdyZm-pCR",
        "colab_type": "code",
        "colab": {}
      },
      "cell_type": "code",
      "source": [
        "DRIVE='/content/gdrive/My Drive'"
      ],
      "execution_count": 0,
      "outputs": []
    },
    {
      "metadata": {
        "id": "zDqT7nXem9Tk",
        "colab_type": "code",
        "colab": {
          "base_uri": "https://localhost:8080/",
          "height": 68
        },
        "outputId": "31eb0c6a-8836-45c5-f7c7-2dd34f3db0a4"
      },
      "cell_type": "code",
      "source": [
        "!python train.py"
      ],
      "execution_count": 0,
      "outputs": [
        {
          "output_type": "stream",
          "text": [
            "Train Epoch: 1 [21600/24764 (87%)]  Loss: 0.148970 (0.1824)  Time: 1.813s, 4.413/s  (1.879s, 4.257/s)  Data: 0.008 (0.009)\n",
            "Train Epoch: 1 [22400/24764 (90%)]  Loss: 0.194807 (0.1819)  Time: 1.836s, 4.357/s  (1.877s, 4.262/s)  Data: 0.016 (0.009)\n",
            "Train Epoch: 1 [23200/24764 (94%)]  Loss: 0.207304 (0.1814)  Time: 1.819s, 4.399/s  (1.875s, 4.266/s)  Data: 0.009 (0.009)\n"
          ],
          "name": "stdout"
        }
      ]
    },
    {
      "metadata": {
        "id": "O_fYg7Bna-P8",
        "colab_type": "code",
        "outputId": "ca339af1-7eee-4f7e-fae7-07fb0bdd7728",
        "colab": {
          "base_uri": "https://localhost:8080/",
          "height": 68
        }
      },
      "cell_type": "code",
      "source": [
        "!ls"
      ],
      "execution_count": 27,
      "outputs": [
        {
          "output_type": "stream",
          "text": [
            "adc.json    labels.csv\t     sample_data\t    train      utils.py\n",
            "dataset.py  models.py\t     sample_submission.csv  train.csv\n",
            "gdrive\t    mytransforms.py  test\t\t    train.py\n"
          ],
          "name": "stdout"
        }
      ]
    },
    {
      "metadata": {
        "id": "UpQ-VPVItVK4",
        "colab_type": "code",
        "outputId": "207aaec7-8ec1-49ae-ca90-a9bfff792b5e",
        "colab": {
          "base_uri": "https://localhost:8080/",
          "height": 228
        }
      },
      "cell_type": "code",
      "source": [
        "import os\n",
        "import cv2\n",
        "import numpy as np\n",
        "\n",
        "\n",
        "BASEPATH = '/content/'\n",
        "PNGPATH = os.path.join(BASEPATH, 'train/')\n",
        "\n",
        "def find_inputs(folder, types=('.png')):\n",
        "    inputs = []\n",
        "    for root, _, files in os.walk(folder, topdown=False):\n",
        "      for rel_filename in files:\n",
        "        base, ext = os.path.splitext(rel_filename)\n",
        "        if  ext.lower() in types:\n",
        "          abs_filename = os.path.join(root, rel_filename)\n",
        "          inputs.append((base, abs_filename))\n",
        "    return inputs\n",
        "\n",
        "\n",
        "def main():\n",
        "  png_inputs = find_inputs(PNGPATH, types=('.png',))\n",
        "  png_stats_red = []\n",
        "  png_stats_green = []\n",
        "  png_stats_blue = []\n",
        "  png_stats_yellow = []\n",
        "  flags = cv2.IMREAD_GRAYSCALE\n",
        "  for f in png_inputs:\n",
        "    img = cv2.imread(f[1],flags)\n",
        "    mean, std = cv2.meanStdDev(img)\n",
        "    if f[0].split('.')[0].endswith('red'):\n",
        "      png_stats_red.append(np.array([mean[::-1] / 255, std[::-1] / 255]))\n",
        "    if f[0].split('.')[0].endswith('green'):\n",
        "      png_stats_green.append(np.array([mean[::-1] / 255, std[::-1] / 255]))\n",
        "    if f[0].split('.')[0].endswith('blue'):\n",
        "      png_stats_blue.append(np.array([mean[::-1] / 255, std[::-1] / 255]))\n",
        "    if f[0].split('.')[0].endswith('yellow'):\n",
        "      png_stats_yellow.append(np.array([mean[::-1] / 255, std[::-1] / 255]))   \n",
        "  png_vals_red = np.mean(png_stats_red, axis=0)\n",
        "  png_vals_green = np.mean(png_stats_green, axis=0)\n",
        "  png_vals_blue = np.mean(png_stats_blue, axis=0)\n",
        "  png_vals_yellow = np.mean(png_stats_yellow, axis=0)\n",
        "  print(png_vals_red)\n",
        "  print(png_vals_green)\n",
        "  print(png_vals_blue)\n",
        "  print(png_vals_yellow)\n",
        "\n",
        "\n",
        "if __name__ == '__main__':\n",
        "    main()"
      ],
      "execution_count": 0,
      "outputs": [
        {
          "output_type": "stream",
          "text": [
            "[[[0.0804419 ]]\n",
            "\n",
            " [[0.13000701]]]\n",
            "[[[0.05262986]]\n",
            "\n",
            " [[0.08796628]]]\n",
            "[[[0.05474701]]\n",
            "\n",
            " [[0.1386317 ]]]\n",
            "[[[0.08270896]]\n",
            "\n",
            " [[0.12718021]]]\n"
          ],
          "name": "stdout"
        }
      ]
    },
    {
      "metadata": {
        "colab_type": "code",
        "outputId": "449cf567-0be7-4059-83b8-855818cd303d",
        "id": "6C8JvuNK-Bpc",
        "colab": {
          "base_uri": "https://localhost:8080/",
          "height": 34
        }
      },
      "cell_type": "code",
      "source": [
        ""
      ],
      "execution_count": 0,
      "outputs": [
        {
          "output_type": "execute_result",
          "data": {
            "text/plain": [
              "0.1429575920936828"
            ]
          },
          "metadata": {
            "tags": []
          },
          "execution_count": 20
        }
      ]
    }
  ]
}